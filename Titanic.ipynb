{
 "cells": [
  {
   "cell_type": "markdown",
   "metadata": {},
   "source": [
    "<b>Purpose of Project : Predict suvival on the Titanic</b>\n",
    "\n",
    "<u>Process</u>\n",
    "\n",
    "1. Exploratory data analysis\n",
    " - Explore each data file structure\n",
    " -  Basic statistics visualization\n",
    "2. Feature Engineering \n",
    " - Data Cleansing\n",
    " - Select which feature should be included in model \n",
    "3. Modeling \n",
    " - Logistic Regression\n",
    " - Support Vector Machine(SVM)\n",
    " - k-Nearest Neighbor(KNN)\n",
    " - Random Forest\n",
    " - Naive Bayes"
   ]
  }
 ],
 "metadata": {
  "kernelspec": {
   "display_name": "Python 3",
   "language": "python",
   "name": "python3"
  },
  "language_info": {
   "codemirror_mode": {
    "name": "ipython",
    "version": 3
   },
   "file_extension": ".py",
   "mimetype": "text/x-python",
   "name": "python",
   "nbconvert_exporter": "python",
   "pygments_lexer": "ipython3",
   "version": "3.7.6"
  }
 },
 "nbformat": 4,
 "nbformat_minor": 4
}
