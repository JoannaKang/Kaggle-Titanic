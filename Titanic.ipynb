{
 "cells": [
  {
   "cell_type": "markdown",
   "metadata": {},
   "source": [
    "<u>Purpose of Project</u><br>\n",
    ": Predict suvival on the Titanic\n",
    "\n",
    "<u>Process</u>\n",
    "<br>\n",
    "\n",
    "0. Import data\n",
    "<br>\n",
    "1. Exploratory data analysis\n",
    " - Explore each data file structure\n",
    " -  Basic statistics visualization\n",
    "<br>\n",
    "2. Feature Engineering \n",
    "- Data Cleansing\n",
    "- Select which feature should be included in model \n",
    "<br>\n",
    "3. Modeling \n",
    "- Logistic Regression\n",
    "- Support Vector Machine(SVM)\n",
    "- k-Nearest Neighbor(KNN)\n",
    "- Random Forest\n",
    "- Naive Bayes\n",
    "<br>\n",
    "\n",
    "4. Testing"
   ]
  },
  {
   "cell_type": "code",
   "execution_count": 3,
   "metadata": {},
   "outputs": [],
   "source": [
    "import pandas as pd\n",
    "\n",
    "train = pd.read_csv(\"C:\\\\Users\\\\Joanna Kang\\\\Desktop\\\\python\\\\Kaggle\\\\titanic\\\\test.csv\")\n",
    "test = pd.read_csv(\"C:\\\\Users\\\\Joanna Kang\\\\Desktop\\\\python\\\\Kaggle\\\\titanic\\\\train.csv\")"
   ]
  },
  {
   "cell_type": "code",
   "execution_count": 4,
   "metadata": {},
   "outputs": [
    {
     "output_type": "execute_result",
     "data": {
      "text/plain": "    PassengerId  Pclass                                               Name  \\\n0           892       3                                   Kelly, Mr. James   \n1           893       3                   Wilkes, Mrs. James (Ellen Needs)   \n2           894       2                          Myles, Mr. Thomas Francis   \n3           895       3                                   Wirz, Mr. Albert   \n4           896       3       Hirvonen, Mrs. Alexander (Helga E Lindqvist)   \n..          ...     ...                                                ...   \n75          967       1                                 Keeping, Mr. Edwin   \n76          968       3                                   Miles, Mr. Frank   \n77          969       1  Cornell, Mrs. Robert Clifford (Malvina Helen L...   \n78          970       2                     Aldworth, Mr. Charles Augustus   \n79          971       3                             Doyle, Miss. Elizabeth   \n\n       Sex   Age  SibSp  Parch   Ticket      Fare Cabin Embarked  \n0     male  34.5      0      0   330911    7.8292   NaN        Q  \n1   female  47.0      1      0   363272    7.0000   NaN        S  \n2     male  62.0      0      0   240276    9.6875   NaN        Q  \n3     male  27.0      0      0   315154    8.6625   NaN        S  \n4   female  22.0      1      1  3101298   12.2875   NaN        S  \n..     ...   ...    ...    ...      ...       ...   ...      ...  \n75    male  32.5      0      0   113503  211.5000  C132        C  \n76    male   NaN      0      0   359306    8.0500   NaN        S  \n77  female  55.0      2      0    11770   25.7000  C101        S  \n78    male  30.0      0      0   248744   13.0000   NaN        S  \n79  female  24.0      0      0   368702    7.7500   NaN        Q  \n\n[80 rows x 11 columns]",
      "text/html": "<div>\n<style scoped>\n    .dataframe tbody tr th:only-of-type {\n        vertical-align: middle;\n    }\n\n    .dataframe tbody tr th {\n        vertical-align: top;\n    }\n\n    .dataframe thead th {\n        text-align: right;\n    }\n</style>\n<table border=\"1\" class=\"dataframe\">\n  <thead>\n    <tr style=\"text-align: right;\">\n      <th></th>\n      <th>PassengerId</th>\n      <th>Pclass</th>\n      <th>Name</th>\n      <th>Sex</th>\n      <th>Age</th>\n      <th>SibSp</th>\n      <th>Parch</th>\n      <th>Ticket</th>\n      <th>Fare</th>\n      <th>Cabin</th>\n      <th>Embarked</th>\n    </tr>\n  </thead>\n  <tbody>\n    <tr>\n      <th>0</th>\n      <td>892</td>\n      <td>3</td>\n      <td>Kelly, Mr. James</td>\n      <td>male</td>\n      <td>34.5</td>\n      <td>0</td>\n      <td>0</td>\n      <td>330911</td>\n      <td>7.8292</td>\n      <td>NaN</td>\n      <td>Q</td>\n    </tr>\n    <tr>\n      <th>1</th>\n      <td>893</td>\n      <td>3</td>\n      <td>Wilkes, Mrs. James (Ellen Needs)</td>\n      <td>female</td>\n      <td>47.0</td>\n      <td>1</td>\n      <td>0</td>\n      <td>363272</td>\n      <td>7.0000</td>\n      <td>NaN</td>\n      <td>S</td>\n    </tr>\n    <tr>\n      <th>2</th>\n      <td>894</td>\n      <td>2</td>\n      <td>Myles, Mr. Thomas Francis</td>\n      <td>male</td>\n      <td>62.0</td>\n      <td>0</td>\n      <td>0</td>\n      <td>240276</td>\n      <td>9.6875</td>\n      <td>NaN</td>\n      <td>Q</td>\n    </tr>\n    <tr>\n      <th>3</th>\n      <td>895</td>\n      <td>3</td>\n      <td>Wirz, Mr. Albert</td>\n      <td>male</td>\n      <td>27.0</td>\n      <td>0</td>\n      <td>0</td>\n      <td>315154</td>\n      <td>8.6625</td>\n      <td>NaN</td>\n      <td>S</td>\n    </tr>\n    <tr>\n      <th>4</th>\n      <td>896</td>\n      <td>3</td>\n      <td>Hirvonen, Mrs. Alexander (Helga E Lindqvist)</td>\n      <td>female</td>\n      <td>22.0</td>\n      <td>1</td>\n      <td>1</td>\n      <td>3101298</td>\n      <td>12.2875</td>\n      <td>NaN</td>\n      <td>S</td>\n    </tr>\n    <tr>\n      <th>...</th>\n      <td>...</td>\n      <td>...</td>\n      <td>...</td>\n      <td>...</td>\n      <td>...</td>\n      <td>...</td>\n      <td>...</td>\n      <td>...</td>\n      <td>...</td>\n      <td>...</td>\n      <td>...</td>\n    </tr>\n    <tr>\n      <th>75</th>\n      <td>967</td>\n      <td>1</td>\n      <td>Keeping, Mr. Edwin</td>\n      <td>male</td>\n      <td>32.5</td>\n      <td>0</td>\n      <td>0</td>\n      <td>113503</td>\n      <td>211.5000</td>\n      <td>C132</td>\n      <td>C</td>\n    </tr>\n    <tr>\n      <th>76</th>\n      <td>968</td>\n      <td>3</td>\n      <td>Miles, Mr. Frank</td>\n      <td>male</td>\n      <td>NaN</td>\n      <td>0</td>\n      <td>0</td>\n      <td>359306</td>\n      <td>8.0500</td>\n      <td>NaN</td>\n      <td>S</td>\n    </tr>\n    <tr>\n      <th>77</th>\n      <td>969</td>\n      <td>1</td>\n      <td>Cornell, Mrs. Robert Clifford (Malvina Helen L...</td>\n      <td>female</td>\n      <td>55.0</td>\n      <td>2</td>\n      <td>0</td>\n      <td>11770</td>\n      <td>25.7000</td>\n      <td>C101</td>\n      <td>S</td>\n    </tr>\n    <tr>\n      <th>78</th>\n      <td>970</td>\n      <td>2</td>\n      <td>Aldworth, Mr. Charles Augustus</td>\n      <td>male</td>\n      <td>30.0</td>\n      <td>0</td>\n      <td>0</td>\n      <td>248744</td>\n      <td>13.0000</td>\n      <td>NaN</td>\n      <td>S</td>\n    </tr>\n    <tr>\n      <th>79</th>\n      <td>971</td>\n      <td>3</td>\n      <td>Doyle, Miss. Elizabeth</td>\n      <td>female</td>\n      <td>24.0</td>\n      <td>0</td>\n      <td>0</td>\n      <td>368702</td>\n      <td>7.7500</td>\n      <td>NaN</td>\n      <td>Q</td>\n    </tr>\n  </tbody>\n</table>\n<p>80 rows × 11 columns</p>\n</div>"
     },
     "metadata": {},
     "execution_count": 4
    }
   ],
   "source": [
    "train.head(80)"
   ]
  }
 ],
 "metadata": {
  "kernelspec": {
   "display_name": "Python 3",
   "language": "python",
   "name": "python3"
  },
  "language_info": {
   "codemirror_mode": {
    "name": "ipython",
    "version": 3
   },
   "file_extension": ".py",
   "mimetype": "text/x-python",
   "name": "python",
   "nbconvert_exporter": "python",
   "pygments_lexer": "ipython3",
   "version": "3.7.6-final"
  }
 },
 "nbformat": 4,
 "nbformat_minor": 4
}